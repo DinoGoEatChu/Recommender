{
 "cells": [
  {
   "cell_type": "code",
   "execution_count": 50,
   "id": "ad14ea55",
   "metadata": {},
   "outputs": [],
   "source": [
    "import pandas as pd\n",
    "import ipywidgets as widgets\n",
    "from ipywidgets import widgets, interact\n",
    "\n",
    "\n",
    "\n"
   ]
  },
  {
   "cell_type": "code",
   "execution_count": 1,
   "id": "d15ba854",
   "metadata": {},
   "outputs": [
    {
     "ename": "NameError",
     "evalue": "name 'pd' is not defined",
     "output_type": "error",
     "traceback": [
      "\u001b[1;31m---------------------------------------------------------------------------\u001b[0m",
      "\u001b[1;31mNameError\u001b[0m                                 Traceback (most recent call last)",
      "Cell \u001b[1;32mIn [1], line 1\u001b[0m\n\u001b[1;32m----> 1\u001b[0m songs \u001b[38;5;241m=\u001b[39m \u001b[43mpd\u001b[49m\u001b[38;5;241m.\u001b[39mread_csv(\u001b[38;5;124m'\u001b[39m\u001b[38;5;124mcluster_data.csv\u001b[39m\u001b[38;5;124m'\u001b[39m)\n",
      "\u001b[1;31mNameError\u001b[0m: name 'pd' is not defined"
     ]
    }
   ],
   "source": [
    "\n",
    "songs = pd.read_csv('cluster_data.csv')\n"
   ]
  },
  {
   "cell_type": "code",
   "execution_count": 2,
   "id": "ca9cad26",
   "metadata": {},
   "outputs": [
    {
     "ename": "NameError",
     "evalue": "name 'songs' is not defined",
     "output_type": "error",
     "traceback": [
      "\u001b[1;31m---------------------------------------------------------------------------\u001b[0m",
      "\u001b[1;31mNameError\u001b[0m                                 Traceback (most recent call last)",
      "Cell \u001b[1;32mIn [2], line 1\u001b[0m\n\u001b[1;32m----> 1\u001b[0m \u001b[43msongs\u001b[49m\u001b[38;5;241m.\u001b[39mdrop(labels \u001b[38;5;241m=\u001b[39m [\u001b[38;5;124m'\u001b[39m\u001b[38;5;124mdanceability\u001b[39m\u001b[38;5;124m'\u001b[39m, \u001b[38;5;124m'\u001b[39m\u001b[38;5;124minstrumentalness\u001b[39m\u001b[38;5;124m'\u001b[39m, \u001b[38;5;124m'\u001b[39m\u001b[38;5;124menergy\u001b[39m\u001b[38;5;124m'\u001b[39m, \u001b[38;5;124m'\u001b[39m\u001b[38;5;124mspeechiness\u001b[39m\u001b[38;5;124m'\u001b[39m, \u001b[38;5;124m'\u001b[39m\u001b[38;5;124mexplicit\u001b[39m\u001b[38;5;124m'\u001b[39m, \u001b[38;5;124m'\u001b[39m\u001b[38;5;124mvalence\u001b[39m\u001b[38;5;124m'\u001b[39m, \u001b[38;5;124m'\u001b[39m\u001b[38;5;124macousticness\u001b[39m\u001b[38;5;124m'\u001b[39m, \u001b[38;5;124m'\u001b[39m\u001b[38;5;124mliveness\u001b[39m\u001b[38;5;124m'\u001b[39m, \u001b[38;5;124m'\u001b[39m\u001b[38;5;124mloudness\u001b[39m\u001b[38;5;124m'\u001b[39m, \u001b[38;5;124m'\u001b[39m\u001b[38;5;124mtempo\u001b[39m\u001b[38;5;124m'\u001b[39m, \u001b[38;5;124m'\u001b[39m\u001b[38;5;124mrelease_date\u001b[39m\u001b[38;5;124m'\u001b[39m, \u001b[38;5;124m'\u001b[39m\u001b[38;5;124mkey\u001b[39m\u001b[38;5;124m'\u001b[39m, \u001b[38;5;124m'\u001b[39m\u001b[38;5;124mmode\u001b[39m\u001b[38;5;124m'\u001b[39m, \u001b[38;5;124m'\u001b[39m\u001b[38;5;124mduration_ms\u001b[39m\u001b[38;5;124m'\u001b[39m, \u001b[38;5;124m'\u001b[39m\u001b[38;5;124mUnnamed: 0\u001b[39m\u001b[38;5;124m'\u001b[39m],  axis\u001b[38;5;241m=\u001b[39m\u001b[38;5;241m1\u001b[39m, inplace \u001b[38;5;241m=\u001b[39m\u001b[38;5;28;01mTrue\u001b[39;00m)\n\u001b[0;32m      2\u001b[0m songs\u001b[38;5;241m.\u001b[39mhead(\u001b[38;5;241m10\u001b[39m)\n",
      "\u001b[1;31mNameError\u001b[0m: name 'songs' is not defined"
     ]
    }
   ],
   "source": [
    "songs.drop(labels = ['danceability', 'instrumentalness', 'energy', 'speechiness', 'explicit', 'valence', 'acousticness', 'liveness', 'loudness', 'tempo', 'release_date', 'key', 'mode', 'duration_ms', 'Unnamed: 0'],  axis=1, inplace =True)\n",
    "songs.head(10)"
   ]
  },
  {
   "cell_type": "markdown",
   "id": "f1b3dca2-b8f1-487d-9376-60338346b52a",
   "metadata": {
    "presto": {
     "id": "7fb31108-c77c-49da-9b5b-d6022f848de7"
    },
    "tags": []
   },
   "source": [
    "# Song Recommender"
   ]
  },
  {
   "cell_type": "code",
   "execution_count": 53,
   "id": "bfacbb04",
   "metadata": {
    "presto": {
     "id": "6d270115-e318-46ec-b33b-5e04b29fad73"
    },
    "tags": []
   },
   "outputs": [
    {
     "data": {
      "application/vnd.jupyter.widget-view+json": {
       "model_id": "77bf4a02e5f1440aa13a02297c47de98",
       "version_major": 2,
       "version_minor": 0
      },
      "text/plain": [
       "Text(value='', description='Fave Song:', placeholder='Type song')"
      ]
     },
     "metadata": {},
     "output_type": "display_data"
    },
    {
     "data": {
      "application/vnd.jupyter.widget-view+json": {
       "model_id": "964f3e96d85649d9b3f24ce3657fb8c6",
       "version_major": 2,
       "version_minor": 0
      },
      "text/plain": [
       "Button(description='Click Me!', style=ButtonStyle())"
      ]
     },
     "metadata": {},
     "output_type": "display_data"
    },
    {
     "data": {
      "application/vnd.jupyter.widget-view+json": {
       "model_id": "f9771138842d4ffe901d3a99c9396704",
       "version_major": 2,
       "version_minor": 0
      },
      "text/plain": [
       "Output()"
      ]
     },
     "metadata": {},
     "output_type": "display_data"
    }
   ],
   "source": [
    "\n",
    "#Ipywidgets for user interaction\n",
    "text_out =widgets.Text(disabled = True, description = 'Title:')\n",
    "text_in = widgets.Text(placeholder='Type song', description='Fave Song:', disabled=False)\n",
    "button = widgets.Button(description=\"Click Me!\")\n",
    "out = widgets.Output()\n",
    "\n",
    "\n",
    "#displaying input textbox\n",
    "display(text_in)\n",
    "\n",
    "\n",
    "#function that binds input value to output value, finds song in dataframe, finds specific cluster, \n",
    "#finds recommendations in found cluster and displays the recommendations\n",
    "def fun(b):\n",
    "    song_id = text_in.value\n",
    "    faves = songs[songs.name.isin([song_id])]\n",
    "    clust = list(faves['cluster'])\n",
    "    clustered = {}\n",
    "    for i in clust:\n",
    "        clustered[i] = clust.count(i)   \n",
    "    fave_cluster = [(l, m) for l, m in sorted(clustered.items(), key=lambda item: item[1])][0][0]\n",
    "    print('Favorite cluster: ', fave_cluster)\n",
    "    recommendation = songs[songs.cluster == fave_cluster].sort_values('popularity').sample(30).sort_values('popularity', ascending=False)\n",
    "    display(recommendation.head(10))\n",
    "\n",
    "#function that binds input value to output value    \n",
    "def bind(sender):\n",
    "    text_out.value = text_in.value\n",
    "\n",
    "    \n",
    " #function that clears dataframe recommendations output to prepare for new input\n",
    "#notifies user of invalid input\n",
    "def results(sender):   \n",
    "    out.clear_output()\n",
    "    with out:    \n",
    "        while True:\n",
    "            try:\n",
    "                fun('b')\n",
    "                break\n",
    "            except IndexError:\n",
    "                print(\"Invalid song name, try 'Stan' \")\n",
    "                break\n",
    "\n",
    "#function that checks for a change in input/output                \n",
    "def event(change):\n",
    "    results(change.new) \n",
    "\n",
    "    \n",
    "#binds functions above to mouse click    \n",
    "button.on_click(bind)  \n",
    "button.on_click(results) \n",
    "#displays button and output\n",
    "display(button, out)"
   ]
  },
  {
   "cell_type": "markdown",
   "id": "e0ed48a9-a90e-472e-bdbc-ac4dcca6c524",
   "metadata": {
    "presto": {
     "id": "bd3db1a0-4c9d-4a44-880c-d9d1bf8beeb2"
    },
    "tags": []
   },
   "source": [
    "#### Enter your favorite song below into textbox then press 'Click Me!'"
   ]
  },
  {
   "cell_type": "markdown",
   "id": "f0f43a20-a6a6-4c27-b2c9-0237e52220b3",
   "metadata": {
    "presto": {
     "id": "c5b03063-563a-4e03-8e78-2ecd003923ae"
    },
    "tags": []
   },
   "source": [
    "##### Your song may not be found if its the same title as a different song"
   ]
  },
  {
   "cell_type": "code",
   "execution_count": null,
   "id": "edbea522",
   "metadata": {},
   "outputs": [],
   "source": []
  }
 ],
 "metadata": {
  "kernelspec": {
   "display_name": "Python 3 (ipykernel)",
   "language": "python",
   "name": "python3"
  },
  "language_info": {
   "codemirror_mode": {
    "name": "ipython",
    "version": 3
   },
   "file_extension": ".py",
   "mimetype": "text/x-python",
   "name": "python",
   "nbconvert_exporter": "python",
   "pygments_lexer": "ipython3",
   "version": "3.10.8"
  },
  "presto": {
   "id": "7fbfd84e-9580-4474-b832-ba4afa8cbcb5"
  }
 },
 "nbformat": 4,
 "nbformat_minor": 5
}
